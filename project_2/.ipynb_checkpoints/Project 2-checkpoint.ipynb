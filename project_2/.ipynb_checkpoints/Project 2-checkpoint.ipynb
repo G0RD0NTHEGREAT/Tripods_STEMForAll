{
 "cells": [
  {
   "cell_type": "markdown",
   "metadata": {},
   "source": [
    "## **Tripods Project 2 - Image Processing**"
   ]
  },
  {
   "cell_type": "markdown",
   "metadata": {},
   "source": [
    "<font size = \"3\"> In this project we will be finding an image, turning this image into usable data, and then performing various operations on this data to change the features of the image. For a bit of background, images are actually represented in Python as a 3-D matrix of floating point numbers where the dimensions are [height, width, color]. Each (height, width) pair corresponds to a single pixel on your screen and the extra dimension (color) corresponds to one of three values representing either Red, Green, or Blue (or RGB). In essence this means each image is made of 3 different slices of pixel values."
   ]
  },
  {
   "cell_type": "markdown",
   "metadata": {},
   "source": [
    "<font size = \"3\"> **Task 1** - We will begin by finding an image. Go look up a picture, then save it. I recommend turning your image into a .png file if it isn't already. Next, save it into your Jupyter notebook folder that contains your notebook for this project. We will be using the PIL package to work with these images. The code for this image import will be provided, just change the line of code below from `image = Image.open('spider.png')` to `image = Image.open('your_image.png')`. You can also use the original `spider.png`, it will be provided. The line below `data = np.asarray(image)` is what turns our image file into our 3-D matrix. I recommend looking into the PIL and NumPy API's so you can check out more details about your image. For instance, `data.shape` will be very helpful for this project because it tells you the dimensions of your image."
   ]
  },
  {
   "cell_type": "code",
   "execution_count": 194,
   "metadata": {},
   "outputs": [],
   "source": [
    "## Importing the image.\n",
    "from PIL import Image\n",
    "import numpy as np\n",
    "import math as math\n",
    "import cv2\n",
    "\n",
    "image = Image.open('spider.png')\n",
    "data = np.asarray(image)\n",
    "image.show()"
   ]
  },
  {
   "cell_type": "markdown",
   "metadata": {},
   "source": [
    "<font size = \"3\"> This is my picture."
   ]
  },
  {
   "cell_type": "markdown",
   "metadata": {},
   "source": [
    "![alt text](spider.png)"
   ]
  },
  {
   "cell_type": "markdown",
   "metadata": {},
   "source": [
    "<font size = \"3\"> **Task 2** - Make your image grayscale by multiplying the entire R slice (0) by 0.299, the G slice (1) by 0.587, and the B slice by 0.114. Use list compressions to do this without for-loops. Print your image when done."
   ]
  },
  {
   "cell_type": "code",
   "execution_count": 201,
   "metadata": {},
   "outputs": [],
   "source": [
    "## Make the image grayscale.\n",
    "data_gray = 0.299 * data[:, :, 0] + 0.587 * data[:, :, 1] + 0.114 * data[:, :, 2]\n",
    "gray_image = Image.fromarray(data_gray)\n",
    "gray_image.show()"
   ]
  },
  {
   "cell_type": "markdown",
   "metadata": {},
   "source": [
    "<font size = \"3\"> Grayscale Spider-Man\n",
    "![alt text](gray_spider.png)"
   ]
  },
  {
   "cell_type": "markdown",
   "metadata": {},
   "source": [
    "<font size = \"3\"> **Task 3** - In image processing, an important operation is called \"convolution.\" Convolution is a method of filtering and can lead to a bunch of cool effects. The effects we will explore are blur or smooth, sharpen, and edge. Convolution works as in the GIF below. In the GIF, there is a 3x3 filter matrix that scans through the pixels of an image. In each stage of the scan, a mathematical operation takes place which sort of combines information from the image pixels and condenses them into 1 pixel in the new image. The operation can be written as                     \n",
    "    \n",
    "$$\\text{new_pixel}[i,j] = \\sum_{u=0}^{\\text{filter height}} \\sum_{v=0}^{\\text{filter width}} \\text{kernel}[u, v] * \\text{data_padded}[i+u, j+v]$$\n",
    ".\n",
    "    \n",
    "In the above expression, \"kernel\" refers to your filter matrix and \"data_padded\" is your image data that is \"padded\" with 0's around its perimeter. These 0's are necessary for the convolution to work. For convolution to work, the center pixel of your filter must be at some point able to pass over each pixel in your main image, and this padding is what lets that happen (otherwise your filter would go out of bounds). The padding will change depending on the size of your filter. A good rule of thumb is if your filter is NxN, then make your padding $\\left \\lceil \\frac{n}{2} \\rceil \\right$ layers thick. Only the height and width of your image matrix needs to be padded. Also, all 3 color channels (slices) need to be convoluted separately. \n",
    "    \n",
    "Your task will be to write a function that takes a filter matrix, an image data matrix, and a pad_width as input and returns a new image data matrix by convoluting the filter with the data matrix. There are multiple ways to do this but as a hint, doing this requires 5 nested for-loops if you don't utilize NumPy and only 3 nested for-loops if you do utilize NumPy. Honestly, some of you may know how to make this even more efficient than that, and if you want to go for it! Either way will give you the right answer, but as a heads up the 5 for-loop method is slower than the 3 for-loop method, and depending on how big your filters are, this operation can take a little while for your computer to compute. I recommend trying to first blur or smooth your image with the following filter:\n",
    "    \n",
    "$$ \n",
    "\\frac{1}{9} \\begin{Bmatrix}\n",
    "   1 & 1 & 1 \\\\\n",
    "   1 & 1 & 1 \\\\\n",
    "   1 & 1 & 1\n",
    "  \\end{Bmatrix} \\tag{5}\n",
    "$$\n",
    "    \n",
    "This filter can be generalized to an NxN matrix with 1's in every position and instead of dividing by $\\frac{1}{9}$, you divide by $\\frac{1}{n^2}$. This operation in essence is averaging local pixel values together to produce the blurring effect. Also, I rrecommend writing a function that takes in image data as input and then shows the image. This will make things less tedious in testing.\n",
    "\n",
    "![alt text](convolution.gif)    "
   ]
  },
  {
   "cell_type": "code",
   "execution_count": 186,
   "metadata": {},
   "outputs": [],
   "source": [
    "def convolute(kernel, data, pad_width):\n",
    "    \n",
    "    data_padded = np.pad(data, ((pad_width, pad_width), (pad_width, pad_width), (0,0)), mode = 'constant')\n",
    "    output = data.copy()\n",
    "    for x in range(0, 2):\n",
    "        for i in range(0, data.shape[0]):\n",
    "            for j in range(0, data.shape[1]):\n",
    "                sum = 0\n",
    "                for u in range(kernel.shape[0]):\n",
    "                    for v in range(kernel.shape[1]):\n",
    "                        a = kernel[u, v]\n",
    "                        b = data_padded[i+u, j+v, x]\n",
    "                        sum = sum + a*b\n",
    "                output[i, j, x] = sum\n",
    "            \n",
    "    return(output)\n",
    "\n",
    "def convoluteEdge(x_kernel, y_kernel, data, pad_width):\n",
    "    \n",
    "    data_padded = np.pad(data, ((pad_width, pad_width), (pad_width, pad_width), (0,0)), mode = 'constant')\n",
    "    output = data.copy()\n",
    "    for x in range(0, 2):\n",
    "        for i in range(0, data.shape[0]):\n",
    "            for j in range(0, data.shape[1]):\n",
    "                sum_1 = 0\n",
    "                sum_2 = 0\n",
    "                for u in range(x_kernel.shape[0]):\n",
    "                    for v in range(x_kernel.shape[1]):\n",
    "                        a_1 = x_kernel[u, v]\n",
    "                        a_2 = y_kernel[u, v]\n",
    "                        b = data_padded[i+u, j+v, x]\n",
    "                        sum_1 = sum_1 + a_1*b\n",
    "                        sum_2 = sum_2 + a_2*b\n",
    "                output[i, j, x] = math.sqrt((sum_1 ** 2) + (sum_2 ** 2))\n",
    "            \n",
    "    return(output)\n",
    "\n",
    "def printImage(data):\n",
    "    data = data.astype(np.uint8)\n",
    "    data_image = Image.fromarray(data)\n",
    "    data_image.show()"
   ]
  },
  {
   "cell_type": "markdown",
   "metadata": {},
   "source": [
    "<font size = \"3\"> This code makes an NxN blur filter and convultes the image data. If you have trouble seeing the blur effect, try changing your filter size to be bigger. Just note that we will need the 3x3 blur data later on."
   ]
  },
  {
   "cell_type": "code",
   "execution_count": null,
   "metadata": {
    "scrolled": false
   },
   "outputs": [],
   "source": [
    "## Blur setup.\n",
    "n = 7\n",
    "box_filter = np.full((n,n), 1/(n*n))\n",
    "data_blurred = convolute(box_filter, data, math.floor(n/2))"
   ]
  },
  {
   "cell_type": "markdown",
   "metadata": {},
   "source": [
    "Prints blurred image."
   ]
  },
  {
   "cell_type": "code",
   "execution_count": null,
   "metadata": {},
   "outputs": [],
   "source": [
    "## Print blurred image.\n",
    "printImage(data_blurred)"
   ]
  },
  {
   "cell_type": "code",
   "execution_count": 197,
   "metadata": {},
   "outputs": [],
   "source": [
    "## Sharpen and print sharpened image.\n",
    "mask = data - data_blurred\n",
    "data_sharp = data + mask\n",
    "printImage(data_sharp)"
   ]
  },
  {
   "cell_type": "code",
   "execution_count": 191,
   "metadata": {},
   "outputs": [],
   "source": [
    "## Edge setup.\n",
    "edge_filter_x = np.array(([-1, 0, 1], [-2, 0, 2], [-1, 0, 1]))\n",
    "edge_filter_y = np.array(([-1, -2, -1], [0, 0, 0], [1, 2, 1]))\n",
    "data_edge = convoluteEdge(edge_filter_x, edge_filter_y, data, pad_width = 1)"
   ]
  },
  {
   "cell_type": "code",
   "execution_count": 202,
   "metadata": {},
   "outputs": [],
   "source": [
    "## Print edged image.\n",
    "printImage(data_edge)"
   ]
  },
  {
   "cell_type": "code",
   "execution_count": null,
   "metadata": {},
   "outputs": [],
   "source": []
  }
 ],
 "metadata": {
  "kernelspec": {
   "display_name": "Python 3",
   "language": "python",
   "name": "python3"
  },
  "language_info": {
   "codemirror_mode": {
    "name": "ipython",
    "version": 3
   },
   "file_extension": ".py",
   "mimetype": "text/x-python",
   "name": "python",
   "nbconvert_exporter": "python",
   "pygments_lexer": "ipython3",
   "version": "3.7.6"
  }
 },
 "nbformat": 4,
 "nbformat_minor": 4
}
